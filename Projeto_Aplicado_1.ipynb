{
  "nbformat": 4,
  "nbformat_minor": 0,
  "metadata": {
    "colab": {
      "provenance": [],
      "include_colab_link": true
    },
    "kernelspec": {
      "name": "ir",
      "display_name": "R"
    },
    "language_info": {
      "name": "R"
    }
  },
  "cells": [
    {
      "cell_type": "markdown",
      "metadata": {
        "id": "view-in-github",
        "colab_type": "text"
      },
      "source": [
        "<a href=\"https://colab.research.google.com/github/anabcarol/Projeto-aplicado-2-semestre/blob/main/Projeto_Aplicado_1.ipynb\" target=\"_parent\"><img src=\"https://colab.research.google.com/assets/colab-badge.svg\" alt=\"Open In Colab\"/></a>"
      ]
    },
    {
      "cell_type": "code",
      "source": [
        "#só rodar se não carregar algum pacote no segundo comando\n",
        "install.packages(\"hrbrthemes\")\n",
        "install.packages(\"viridis\")\n"
      ],
      "metadata": {
        "colab": {
          "base_uri": "https://localhost:8080/"
        },
        "id": "J30zCvn80y3m",
        "outputId": "45f4a6f4-c996-4ef0-8c02-7d6f78b36de7"
      },
      "execution_count": null,
      "outputs": [
        {
          "output_type": "stream",
          "name": "stderr",
          "text": [
            "Installing package into ‘/usr/local/lib/R/site-library’\n",
            "(as ‘lib’ is unspecified)\n",
            "\n",
            "Installing package into ‘/usr/local/lib/R/site-library’\n",
            "(as ‘lib’ is unspecified)\n",
            "\n"
          ]
        }
      ]
    },
    {
      "cell_type": "code",
      "execution_count": null,
      "metadata": {
        "colab": {
          "base_uri": "https://localhost:8080/",
          "height": 260
        },
        "id": "9rupRJCxalgp",
        "outputId": "70d38a99-cbbb-4d58-9e39-01122c387bd2"
      },
      "outputs": [
        {
          "output_type": "display_data",
          "data": {
            "text/plain": [
              "     Date                Open                High                Low           \n",
              " Length:13233       Min.   :  0.00284   Min.   :  0.00284   Min.   :  0.00262  \n",
              " Class :character   1st Qu.:  0.33193   1st Qu.:  0.33549   1st Qu.:  0.32917  \n",
              " Mode  :character   Median :  7.36163   Median :  7.43091   Median :  7.23730  \n",
              "                    Mean   : 11.94269   Mean   : 12.04704   Mean   : 11.84062  \n",
              "                    3rd Qu.: 14.86469   3rd Qu.: 15.03113   3rd Qu.: 14.76892  \n",
              "                    Max.   :105.30000   Max.   :105.30000   Max.   :103.60000  \n",
              "     Close               Volume            Dividends          Stock.Splits     \n",
              " Min.   :  0.00284   Min.   :        0   Min.   :0.0000000   Min.   :0.000000  \n",
              " 1st Qu.:  0.33239   1st Qu.: 11902200   1st Qu.:0.0000000   1st Qu.:0.000000  \n",
              " Median :  7.35079   Median : 18756900   Median :0.0000000   Median :0.000000  \n",
              " Mean   : 11.94618   Mean   : 22441841   Mean   :0.0009223   Mean   :0.001587  \n",
              " 3rd Qu.: 14.91034   3rd Qu.: 28018500   3rd Qu.:0.0000000   3rd Qu.:0.000000  \n",
              " Max.   :105.05000   Max.   :395500800   Max.   :0.2080000   Max.   :3.000000  "
            ]
          },
          "metadata": {}
        }
      ],
      "source": [
        "library(\"tidyverse\")\n",
        "library(\"stringr\")\n",
        "library(\"ggplot2\")\n",
        "library(\"hrbrthemes\")\n",
        "library(\"viridis\")\n",
        "library(\"stringr\") #se não achar algum pacote, coloca para instalar ele no primeiro quadrinho\n",
        "\n",
        "df <- read.csv(\"/content/walmart_stock_prices.csv\") #le o arquivo\n",
        "\n",
        "summary(df)"
      ]
    },
    {
      "cell_type": "code",
      "source": [
        "df %>% mutate(Date, Date = as.Date(str_extract(Date, \"..........\"))) -> df #Tira o horario da coluna com as datas\n",
        "unique(df$Date) %>% length #datas unicas\n",
        "nrow(df)\n",
        "ncol(df)\n",
        "summary(df)\n",
        "\n"
      ],
      "metadata": {
        "colab": {
          "base_uri": "https://localhost:8080/",
          "height": 434
        },
        "id": "81Osz9FHdJmU",
        "outputId": "62b54cbd-c460-4256-c96f-50f05637ad29"
      },
      "execution_count": null,
      "outputs": [
        {
          "output_type": "display_data",
          "data": {
            "text/html": [
              "13233"
            ],
            "text/markdown": "13233",
            "text/latex": "13233",
            "text/plain": [
              "[1] 13233"
            ]
          },
          "metadata": {}
        },
        {
          "output_type": "display_data",
          "data": {
            "text/html": [
              "13233"
            ],
            "text/markdown": "13233",
            "text/latex": "13233",
            "text/plain": [
              "[1] 13233"
            ]
          },
          "metadata": {}
        },
        {
          "output_type": "display_data",
          "data": {
            "text/html": [
              "8"
            ],
            "text/markdown": "8",
            "text/latex": "8",
            "text/plain": [
              "[1] 8"
            ]
          },
          "metadata": {}
        },
        {
          "output_type": "display_data",
          "data": {
            "text/plain": [
              "      Date                 Open                High          \n",
              " Min.   :1972-08-25   Min.   :  0.00284   Min.   :  0.00284  \n",
              " 1st Qu.:1985-10-02   1st Qu.:  0.33193   1st Qu.:  0.33549  \n",
              " Median :1998-11-02   Median :  7.36163   Median :  7.43091  \n",
              " Mean   :1998-11-13   Mean   : 11.94269   Mean   : 12.04704  \n",
              " 3rd Qu.:2011-12-23   3rd Qu.: 14.86469   3rd Qu.: 15.03113  \n",
              " Max.   :2025-02-21   Max.   :105.30000   Max.   :105.30000  \n",
              "      Low                Close               Volume         \n",
              " Min.   :  0.00262   Min.   :  0.00284   Min.   :        0  \n",
              " 1st Qu.:  0.32917   1st Qu.:  0.33239   1st Qu.: 11902200  \n",
              " Median :  7.23730   Median :  7.35079   Median : 18756900  \n",
              " Mean   : 11.84062   Mean   : 11.94618   Mean   : 22441841  \n",
              " 3rd Qu.: 14.76892   3rd Qu.: 14.91034   3rd Qu.: 28018500  \n",
              " Max.   :103.60000   Max.   :105.05000   Max.   :395500800  \n",
              "   Dividends          Stock.Splits     \n",
              " Min.   :0.0000000   Min.   :0.000000  \n",
              " 1st Qu.:0.0000000   1st Qu.:0.000000  \n",
              " Median :0.0000000   Median :0.000000  \n",
              " Mean   :0.0009223   Mean   :0.001587  \n",
              " 3rd Qu.:0.0000000   3rd Qu.:0.000000  \n",
              " Max.   :0.2080000   Max.   :3.000000  "
            ]
          },
          "metadata": {}
        }
      ]
    },
    {
      "cell_type": "code",
      "source": [
        "df %>% filter(Volume == 0) %>% nrow() #numero de linhas com volume igual a 0\n",
        "df %>% filter(Dividends != 0) %>% summary #dividendos diferentes de 0\n",
        "df %>% filter(Stock.Splits != 0) %>%summary #datas que houve splits"
      ],
      "metadata": {
        "colab": {
          "base_uri": "https://localhost:8080/",
          "height": 520
        },
        "id": "Df-Nt9MZisS6",
        "outputId": "e9fc5e71-2d2f-4913-af5f-fa8212cad5bd"
      },
      "execution_count": null,
      "outputs": [
        {
          "output_type": "display_data",
          "data": {
            "text/html": [
              "53"
            ],
            "text/markdown": "53",
            "text/latex": "53",
            "text/plain": [
              "[1] 53"
            ]
          },
          "metadata": {}
        },
        {
          "output_type": "display_data",
          "data": {
            "text/plain": [
              "      Date                 Open               High               Low          \n",
              " Min.   :1974-03-13   Min.   : 0.00568   Min.   : 0.00568   Min.   : 0.00568  \n",
              " 1st Qu.:1987-04-08   1st Qu.: 0.63616   1st Qu.: 0.63967   1st Qu.: 0.63148  \n",
              " Median :1999-10-30   Median :10.13508   Median :10.14982   Median : 9.84609  \n",
              " Mean   :1999-10-18   Mean   :12.26992   Mean   :12.36103   Mean   :12.15268  \n",
              " 3rd Qu.:2012-04-23   3rd Qu.:15.21476   3rd Qu.:15.28465   3rd Qu.:15.12660  \n",
              " Max.   :2024-12-13   Max.   :93.80000   Max.   :94.68000   Max.   :93.04000  \n",
              "     Close              Volume           Dividends        Stock.Splits\n",
              " Min.   : 0.00568   Min.   :  307200   Min.   :0.00002   Min.   :0    \n",
              " 1st Qu.: 0.63616   1st Qu.:11669700   1st Qu.:0.00125   1st Qu.:0    \n",
              " Median : 9.92459   Median :19003500   Median :0.01667   Median :0    \n",
              " Mean   :12.26043   Mean   :22908151   Mean   :0.06042   Mean   :0    \n",
              " 3rd Qu.:15.23670   3rd Qu.:28471350   3rd Qu.:0.13267   3rd Qu.:0    \n",
              " Max.   :94.25000   Max.   :86341500   Max.   :0.20800   Max.   :0    "
            ]
          },
          "metadata": {}
        },
        {
          "output_type": "display_data",
          "data": {
            "text/plain": [
              "      Date                 Open               High               Low         \n",
              " Min.   :1975-08-25   Min.   : 0.00819   Min.   : 0.00819   Min.   : 0.0081  \n",
              " 1st Qu.:1982-10-11   1st Qu.: 0.12028   1st Qu.: 0.12652   1st Qu.: 0.1203  \n",
              " Median :1986-08-25   Median : 0.57837   Median : 0.58148   Median : 0.5651  \n",
              " Mean   :1990-04-23   Mean   : 7.47367   Mean   : 7.59961   Mean   : 7.3588  \n",
              " 3rd Qu.:1992-06-30   3rd Qu.: 2.89040   3rd Qu.: 2.93199   3rd Qu.: 2.8696  \n",
              " Max.   :2024-02-26   Max.   :58.41977   Max.   :59.13124   Max.   :57.4909  \n",
              "     Close              Volume           Dividends  Stock.Splits\n",
              " Min.   : 0.00819   Min.   : 1920000   Min.   :0   Min.   :2.0  \n",
              " 1st Qu.: 0.12517   1st Qu.:11990400   1st Qu.:0   1st Qu.:2.0  \n",
              " Median : 0.57915   Median :23336700   Median :0   Median :2.0  \n",
              " Mean   : 7.56697   Mean   :21785570   Mean   :0   Mean   :2.1  \n",
              " 3rd Qu.: 2.91919   3rd Qu.:31910100   3rd Qu.:0   3rd Qu.:2.0  \n",
              " Max.   :58.89408   Max.   :39123900   Max.   :0   Max.   :3.0  "
            ]
          },
          "metadata": {}
        }
      ]
    },
    {
      "cell_type": "code",
      "source": [
        "df %>% mutate(Date, pandemia = if_else(\"2019-05-31\" >= Date & Date >= \"2017-03-01\", \"pre\",\n",
        "                                   if_else(\"2023-05-31\" >= Date & Date >= \"2020-03-01\", \"pos\", \"none\"))) -> df #coluna pand, mostra se é pre, pos ou nenhum dos dois(none)"
      ],
      "metadata": {
        "id": "QK6pUJAokbpH"
      },
      "execution_count": null,
      "outputs": []
    },
    {
      "cell_type": "code",
      "source": [
        "df %>% filter(pandemia == \"pre\") %>% summary\n",
        "\n",
        "df %>% filter(pandemia == \"pos\") %>% summary"
      ],
      "metadata": {
        "colab": {
          "base_uri": "https://localhost:8080/",
          "height": 746
        },
        "id": "Dmfl_NE9v9l3",
        "outputId": "5e6c8134-22f7-460d-d894-913b5a44b363"
      },
      "execution_count": null,
      "outputs": [
        {
          "output_type": "display_data",
          "data": {
            "text/plain": [
              "      Date                 Open            High            Low       \n",
              " Min.   :2017-03-01   Min.   :20.16   Min.   :20.26   Min.   :20.14  \n",
              " 1st Qu.:2017-09-20   1st Qu.:23.64   1st Qu.:23.80   1st Qu.:23.51  \n",
              " Median :2018-04-16   Median :26.53   Median :26.80   Median :26.32  \n",
              " Mean   :2018-04-14   Mean   :26.63   Mean   :26.84   Mean   :26.44  \n",
              " 3rd Qu.:2018-11-03   3rd Qu.:29.35   3rd Qu.:29.50   3rd Qu.:29.11  \n",
              " Max.   :2019-05-31   Max.   :32.31   Max.   :32.56   Max.   :31.97  \n",
              "     Close           Volume            Dividends         Stock.Splits\n",
              " Min.   :20.17   Min.   : 11183400   Min.   :0.000000   Min.   :0    \n",
              " 1st Qu.:23.59   1st Qu.: 18428700   1st Qu.:0.000000   1st Qu.:0    \n",
              " Median :26.56   Median : 22807200   Median :0.000000   Median :0    \n",
              " Mean   :26.64   Mean   : 26222829   Mean   :0.003045   Mean   :0    \n",
              " 3rd Qu.:29.34   3rd Qu.: 28470300   3rd Qu.:0.000000   3rd Qu.:0    \n",
              " Max.   :32.44   Max.   :168699000   Max.   :0.176667   Max.   :0    \n",
              "     pand          \n",
              " Length:567        \n",
              " Class :character  \n",
              " Mode  :character  \n",
              "                   \n",
              "                   \n",
              "                   "
            ]
          },
          "metadata": {}
        },
        {
          "output_type": "display_data",
          "data": {
            "text/plain": [
              "      Date                 Open            High            Low       \n",
              " Min.   :2020-03-02   Min.   :32.53   Min.   :34.43   Min.   :31.54  \n",
              " 1st Qu.:2020-12-19   1st Qu.:42.23   1st Qu.:42.78   1st Qu.:41.88  \n",
              " Median :2021-10-13   Median :44.68   Median :45.05   Median :44.35  \n",
              " Mean   :2021-10-13   Mean   :44.12   Mean   :44.53   Mean   :43.74  \n",
              " 3rd Qu.:2022-08-06   3rd Qu.:46.39   3rd Qu.:46.68   3rd Qu.:45.95  \n",
              " Max.   :2023-05-31   Max.   :51.38   Max.   :51.55   Max.   :51.01  \n",
              "     Close           Volume            Dividends        Stock.Splits\n",
              " Min.   :32.18   Min.   :  8777400   Min.   :0.00000   Min.   :0    \n",
              " 1st Qu.:42.32   1st Qu.: 17082900   1st Qu.:0.00000   1st Qu.:0    \n",
              " Median :44.73   Median : 20830800   Median :0.00000   Median :0    \n",
              " Mean   :44.13   Mean   : 24806314   Mean   :0.00315   Mean   :0    \n",
              " 3rd Qu.:46.33   3rd Qu.: 28133700   3rd Qu.:0.00000   3rd Qu.:0    \n",
              " Max.   :51.26   Max.   :132940200   Max.   :0.19000   Max.   :0    \n",
              "     pand          \n",
              " Length:819        \n",
              " Class :character  \n",
              " Mode  :character  \n",
              "                   \n",
              "                   \n",
              "                   "
            ]
          },
          "metadata": {}
        }
      ]
    },
    {
      "cell_type": "code",
      "source": [
        "options(warn=-1)\n",
        "df %>% filter(pandemia != \"none\") %>% ggplot(aes(y = Close, x = pandemia, fill = pandemia)) +\n",
        "  geom_boxplot() +\n",
        "  scale_fill_viridis(discrete = TRUE, alpha=0.6, option=\"A\") +\n",
        "  theme_ipsum() +\n",
        "  theme(\n",
        "    legend.position=\"none\",\n",
        "    plot.title = element_text(size=11)\n",
        "  ) +\n",
        "  ggtitle(\"Valores de fechamento\") +\n",
        "  xlab(\"\")\n"
      ],
      "metadata": {
        "colab": {
          "base_uri": "https://localhost:8080/",
          "height": 437
        },
        "id": "4VOG_71z1jXP",
        "outputId": "cfef0884-8ec8-44bb-b40b-585ea0d440ea"
      },
      "execution_count": null,
      "outputs": [
        {
          "output_type": "display_data",
          "data": {
            "text/plain": [
              "plot without title"
            ],
            "image/png": "[encoded data removed]"
          },
          "metadata": {
            "image/png": {
              "width": 420,
              "height": 420
            }
          }
        }
      ]
    }
  ]
}